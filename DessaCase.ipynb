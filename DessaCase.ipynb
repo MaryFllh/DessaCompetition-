{
 "cells": [
  {
   "cell_type": "code",
   "execution_count": 1,
   "metadata": {
    "_cell_guid": "b1076dfc-b9ad-4769-8c92-a6c4dae69d19",
    "_uuid": "8f2839f25d086af736a60e9eeb907d3b93b6e0e5"
   },
   "outputs": [],
   "source": [
    "## load required libraries \n",
    "import sklearn\n",
    "from sklearn.preprocessing import LabelEncoder\n",
    "import pandas as pd \n",
    "import numpy as np \n",
    "import re"
   ]
  },
  {
   "cell_type": "code",
   "execution_count": 2,
   "metadata": {
    "_cell_guid": "79c7e3d0-c299-4dcb-8224-4455121ee9b0",
    "_uuid": "d629ff2d2480ee46fbb7e2d37f6b5fab8052498a"
   },
   "outputs": [
    {
     "name": "stdout",
     "output_type": "stream",
     "text": [
      "Number of Campaigns:  378661 \n",
      "Number of Columns:  15\n"
     ]
    },
    {
     "data": {
      "text/html": [
       "<div>\n",
       "<style scoped>\n",
       "    .dataframe tbody tr th:only-of-type {\n",
       "        vertical-align: middle;\n",
       "    }\n",
       "\n",
       "    .dataframe tbody tr th {\n",
       "        vertical-align: top;\n",
       "    }\n",
       "\n",
       "    .dataframe thead th {\n",
       "        text-align: right;\n",
       "    }\n",
       "</style>\n",
       "<table border=\"1\" class=\"dataframe\">\n",
       "  <thead>\n",
       "    <tr style=\"text-align: right;\">\n",
       "      <th></th>\n",
       "      <th>ID</th>\n",
       "      <th>name</th>\n",
       "      <th>category</th>\n",
       "      <th>main_category</th>\n",
       "      <th>currency</th>\n",
       "      <th>deadline</th>\n",
       "      <th>goal</th>\n",
       "      <th>launched</th>\n",
       "      <th>pledged</th>\n",
       "      <th>state</th>\n",
       "      <th>backers</th>\n",
       "      <th>country</th>\n",
       "      <th>usd pledged</th>\n",
       "      <th>usd_pledged_real</th>\n",
       "      <th>usd_goal_real</th>\n",
       "    </tr>\n",
       "  </thead>\n",
       "  <tbody>\n",
       "    <tr>\n",
       "      <th>0</th>\n",
       "      <td>1000002330</td>\n",
       "      <td>The Songs of Adelaide &amp; Abullah</td>\n",
       "      <td>Poetry</td>\n",
       "      <td>Publishing</td>\n",
       "      <td>GBP</td>\n",
       "      <td>2015-10-09</td>\n",
       "      <td>1000.0</td>\n",
       "      <td>2015-08-11 12:12:28</td>\n",
       "      <td>0.0</td>\n",
       "      <td>failed</td>\n",
       "      <td>0</td>\n",
       "      <td>GB</td>\n",
       "      <td>0.0</td>\n",
       "      <td>0.0</td>\n",
       "      <td>1533.95</td>\n",
       "    </tr>\n",
       "    <tr>\n",
       "      <th>1</th>\n",
       "      <td>1000003930</td>\n",
       "      <td>Greeting From Earth: ZGAC Arts Capsule For ET</td>\n",
       "      <td>Narrative Film</td>\n",
       "      <td>Film &amp; Video</td>\n",
       "      <td>USD</td>\n",
       "      <td>2017-11-01</td>\n",
       "      <td>30000.0</td>\n",
       "      <td>2017-09-02 04:43:57</td>\n",
       "      <td>2421.0</td>\n",
       "      <td>failed</td>\n",
       "      <td>15</td>\n",
       "      <td>US</td>\n",
       "      <td>100.0</td>\n",
       "      <td>2421.0</td>\n",
       "      <td>30000.00</td>\n",
       "    </tr>\n",
       "    <tr>\n",
       "      <th>2</th>\n",
       "      <td>1000004038</td>\n",
       "      <td>Where is Hank?</td>\n",
       "      <td>Narrative Film</td>\n",
       "      <td>Film &amp; Video</td>\n",
       "      <td>USD</td>\n",
       "      <td>2013-02-26</td>\n",
       "      <td>45000.0</td>\n",
       "      <td>2013-01-12 00:20:50</td>\n",
       "      <td>220.0</td>\n",
       "      <td>failed</td>\n",
       "      <td>3</td>\n",
       "      <td>US</td>\n",
       "      <td>220.0</td>\n",
       "      <td>220.0</td>\n",
       "      <td>45000.00</td>\n",
       "    </tr>\n",
       "    <tr>\n",
       "      <th>3</th>\n",
       "      <td>1000007540</td>\n",
       "      <td>ToshiCapital Rekordz Needs Help to Complete Album</td>\n",
       "      <td>Music</td>\n",
       "      <td>Music</td>\n",
       "      <td>USD</td>\n",
       "      <td>2012-04-16</td>\n",
       "      <td>5000.0</td>\n",
       "      <td>2012-03-17 03:24:11</td>\n",
       "      <td>1.0</td>\n",
       "      <td>failed</td>\n",
       "      <td>1</td>\n",
       "      <td>US</td>\n",
       "      <td>1.0</td>\n",
       "      <td>1.0</td>\n",
       "      <td>5000.00</td>\n",
       "    </tr>\n",
       "    <tr>\n",
       "      <th>4</th>\n",
       "      <td>1000011046</td>\n",
       "      <td>Community Film Project: The Art of Neighborhoo...</td>\n",
       "      <td>Film &amp; Video</td>\n",
       "      <td>Film &amp; Video</td>\n",
       "      <td>USD</td>\n",
       "      <td>2015-08-29</td>\n",
       "      <td>19500.0</td>\n",
       "      <td>2015-07-04 08:35:03</td>\n",
       "      <td>1283.0</td>\n",
       "      <td>canceled</td>\n",
       "      <td>14</td>\n",
       "      <td>US</td>\n",
       "      <td>1283.0</td>\n",
       "      <td>1283.0</td>\n",
       "      <td>19500.00</td>\n",
       "    </tr>\n",
       "  </tbody>\n",
       "</table>\n",
       "</div>"
      ],
      "text/plain": [
       "           ID                                               name  \\\n",
       "0  1000002330                    The Songs of Adelaide & Abullah   \n",
       "1  1000003930      Greeting From Earth: ZGAC Arts Capsule For ET   \n",
       "2  1000004038                                     Where is Hank?   \n",
       "3  1000007540  ToshiCapital Rekordz Needs Help to Complete Album   \n",
       "4  1000011046  Community Film Project: The Art of Neighborhoo...   \n",
       "\n",
       "         category main_category currency   deadline     goal  \\\n",
       "0          Poetry    Publishing      GBP 2015-10-09   1000.0   \n",
       "1  Narrative Film  Film & Video      USD 2017-11-01  30000.0   \n",
       "2  Narrative Film  Film & Video      USD 2013-02-26  45000.0   \n",
       "3           Music         Music      USD 2012-04-16   5000.0   \n",
       "4    Film & Video  Film & Video      USD 2015-08-29  19500.0   \n",
       "\n",
       "             launched  pledged     state  backers country  usd pledged  \\\n",
       "0 2015-08-11 12:12:28      0.0    failed        0      GB          0.0   \n",
       "1 2017-09-02 04:43:57   2421.0    failed       15      US        100.0   \n",
       "2 2013-01-12 00:20:50    220.0    failed        3      US        220.0   \n",
       "3 2012-03-17 03:24:11      1.0    failed        1      US          1.0   \n",
       "4 2015-07-04 08:35:03   1283.0  canceled       14      US       1283.0   \n",
       "\n",
       "   usd_pledged_real  usd_goal_real  \n",
       "0               0.0        1533.95  \n",
       "1            2421.0       30000.00  \n",
       "2             220.0       45000.00  \n",
       "3               1.0        5000.00  \n",
       "4            1283.0       19500.00  "
      ]
     },
     "execution_count": 2,
     "metadata": {},
     "output_type": "execute_result"
    }
   ],
   "source": [
    "#Load the dataset\n",
    "df = pd.read_csv(\"ks-projects-201801.csv\",  parse_dates = [\"launched\", \"deadline\"])\n",
    "df_copy = df.copy()  #keep a copy of the data frame that remains intact\n",
    "print (\"Number of Campaigns: \", df.shape[0], \"\\nNumber of Columns: \", df.shape[1])\n",
    "df.head()\n",
    "\n"
   ]
  },
  {
   "cell_type": "markdown",
   "metadata": {},
   "source": [
    "As of every machine learning problem, we need to explore the data and look out for problematic cases. These steps can be listed below:\n",
    "* Outliers\n",
    "* Missing values\n",
    "* Unwanted information/labels\n",
    "* Encode categorical values to numerical\n",
    "* Extract Features"
   ]
  },
  {
   "cell_type": "markdown",
   "metadata": {},
   "source": [
    "Let's see if there are any missing values. We will deal with outliers by considering features relevant to mean and median of each category. "
   ]
  },
  {
   "cell_type": "code",
   "execution_count": 13,
   "metadata": {},
   "outputs": [
    {
     "data": {
      "text/plain": [
       "usd pledged         3797\n",
       "name                   4\n",
       "usd_goal_real          0\n",
       "usd_pledged_real       0\n",
       "country                0\n",
       "backers                0\n",
       "state                  0\n",
       "pledged                0\n",
       "launched               0\n",
       "goal                   0\n",
       "deadline               0\n",
       "currency               0\n",
       "main_category          0\n",
       "category               0\n",
       "ID                     0\n",
       "dtype: int64"
      ]
     },
     "execution_count": 13,
     "metadata": {},
     "output_type": "execute_result"
    }
   ],
   "source": [
    "df.isnull().sum().sort_values(ascending = False)"
   ]
  },
  {
   "cell_type": "markdown",
   "metadata": {},
   "source": [
    "So as it shows, usd_pledged has around 1% of it's values missing and there are 4 campaigns with missing names. Let's take a further look."
   ]
  },
  {
   "cell_type": "code",
   "execution_count": 3,
   "metadata": {},
   "outputs": [
    {
     "data": {
      "text/plain": [
       "(3797, 15)"
      ]
     },
     "metadata": {},
     "output_type": "display_data"
    },
    {
     "data": {
      "text/html": [
       "<div>\n",
       "<style scoped>\n",
       "    .dataframe tbody tr th:only-of-type {\n",
       "        vertical-align: middle;\n",
       "    }\n",
       "\n",
       "    .dataframe tbody tr th {\n",
       "        vertical-align: top;\n",
       "    }\n",
       "\n",
       "    .dataframe thead th {\n",
       "        text-align: right;\n",
       "    }\n",
       "</style>\n",
       "<table border=\"1\" class=\"dataframe\">\n",
       "  <thead>\n",
       "    <tr style=\"text-align: right;\">\n",
       "      <th></th>\n",
       "      <th>ID</th>\n",
       "      <th>name</th>\n",
       "      <th>category</th>\n",
       "      <th>main_category</th>\n",
       "      <th>currency</th>\n",
       "      <th>deadline</th>\n",
       "      <th>goal</th>\n",
       "      <th>launched</th>\n",
       "      <th>pledged</th>\n",
       "      <th>state</th>\n",
       "      <th>backers</th>\n",
       "      <th>country</th>\n",
       "      <th>usd pledged</th>\n",
       "      <th>usd_pledged_real</th>\n",
       "      <th>usd_goal_real</th>\n",
       "    </tr>\n",
       "  </thead>\n",
       "  <tbody>\n",
       "    <tr>\n",
       "      <th>169</th>\n",
       "      <td>1000694855</td>\n",
       "      <td>STREETFIGHTERZ WHEELIE MURICA</td>\n",
       "      <td>Film &amp; Video</td>\n",
       "      <td>Film &amp; Video</td>\n",
       "      <td>USD</td>\n",
       "      <td>2014-09-20</td>\n",
       "      <td>6500.0</td>\n",
       "      <td>2014-08-06 21:28:36</td>\n",
       "      <td>555.00</td>\n",
       "      <td>undefined</td>\n",
       "      <td>0</td>\n",
       "      <td>N,0\"</td>\n",
       "      <td>NaN</td>\n",
       "      <td>555.00</td>\n",
       "      <td>6500.00</td>\n",
       "    </tr>\n",
       "    <tr>\n",
       "      <th>328</th>\n",
       "      <td>100149523</td>\n",
       "      <td>Duncan Woods - Chameleon EP</td>\n",
       "      <td>Music</td>\n",
       "      <td>Music</td>\n",
       "      <td>AUD</td>\n",
       "      <td>2015-08-25</td>\n",
       "      <td>4500.0</td>\n",
       "      <td>2015-08-04 12:05:17</td>\n",
       "      <td>4767.00</td>\n",
       "      <td>undefined</td>\n",
       "      <td>0</td>\n",
       "      <td>N,0\"</td>\n",
       "      <td>NaN</td>\n",
       "      <td>3402.08</td>\n",
       "      <td>3211.53</td>\n",
       "    </tr>\n",
       "    <tr>\n",
       "      <th>632</th>\n",
       "      <td>1003023003</td>\n",
       "      <td>The Making of Ashley Kelley's Debut Album</td>\n",
       "      <td>Music</td>\n",
       "      <td>Music</td>\n",
       "      <td>USD</td>\n",
       "      <td>2015-04-09</td>\n",
       "      <td>3500.0</td>\n",
       "      <td>2015-03-10 20:06:13</td>\n",
       "      <td>3576.00</td>\n",
       "      <td>undefined</td>\n",
       "      <td>0</td>\n",
       "      <td>N,0\"</td>\n",
       "      <td>NaN</td>\n",
       "      <td>3576.00</td>\n",
       "      <td>3500.00</td>\n",
       "    </tr>\n",
       "    <tr>\n",
       "      <th>647</th>\n",
       "      <td>1003130892</td>\n",
       "      <td>Butter Side Down Debut Album</td>\n",
       "      <td>Music</td>\n",
       "      <td>Music</td>\n",
       "      <td>USD</td>\n",
       "      <td>2015-11-26</td>\n",
       "      <td>6000.0</td>\n",
       "      <td>2015-11-02 22:09:19</td>\n",
       "      <td>7007.80</td>\n",
       "      <td>undefined</td>\n",
       "      <td>0</td>\n",
       "      <td>N,0\"</td>\n",
       "      <td>NaN</td>\n",
       "      <td>7007.80</td>\n",
       "      <td>6000.00</td>\n",
       "    </tr>\n",
       "    <tr>\n",
       "      <th>749</th>\n",
       "      <td>1003629045</td>\n",
       "      <td>Chase Goehring debut EP</td>\n",
       "      <td>Music</td>\n",
       "      <td>Music</td>\n",
       "      <td>USD</td>\n",
       "      <td>2016-03-21</td>\n",
       "      <td>3000.0</td>\n",
       "      <td>2016-02-23 03:09:49</td>\n",
       "      <td>3660.38</td>\n",
       "      <td>undefined</td>\n",
       "      <td>0</td>\n",
       "      <td>N,0\"</td>\n",
       "      <td>NaN</td>\n",
       "      <td>3660.38</td>\n",
       "      <td>3000.00</td>\n",
       "    </tr>\n",
       "  </tbody>\n",
       "</table>\n",
       "</div>"
      ],
      "text/plain": [
       "             ID                                       name      category  \\\n",
       "169  1000694855              STREETFIGHTERZ WHEELIE MURICA  Film & Video   \n",
       "328   100149523                Duncan Woods - Chameleon EP         Music   \n",
       "632  1003023003  The Making of Ashley Kelley's Debut Album         Music   \n",
       "647  1003130892               Butter Side Down Debut Album         Music   \n",
       "749  1003629045                    Chase Goehring debut EP         Music   \n",
       "\n",
       "    main_category currency   deadline    goal            launched  pledged  \\\n",
       "169  Film & Video      USD 2014-09-20  6500.0 2014-08-06 21:28:36   555.00   \n",
       "328         Music      AUD 2015-08-25  4500.0 2015-08-04 12:05:17  4767.00   \n",
       "632         Music      USD 2015-04-09  3500.0 2015-03-10 20:06:13  3576.00   \n",
       "647         Music      USD 2015-11-26  6000.0 2015-11-02 22:09:19  7007.80   \n",
       "749         Music      USD 2016-03-21  3000.0 2016-02-23 03:09:49  3660.38   \n",
       "\n",
       "         state  backers country  usd pledged  usd_pledged_real  usd_goal_real  \n",
       "169  undefined        0    N,0\"          NaN            555.00        6500.00  \n",
       "328  undefined        0    N,0\"          NaN           3402.08        3211.53  \n",
       "632  undefined        0    N,0\"          NaN           3576.00        3500.00  \n",
       "647  undefined        0    N,0\"          NaN           7007.80        6000.00  \n",
       "749  undefined        0    N,0\"          NaN           3660.38        3000.00  "
      ]
     },
     "execution_count": 3,
     "metadata": {},
     "output_type": "execute_result"
    }
   ],
   "source": [
    "display(df[df['usd pledged'].isnull()].shape)\n",
    "df[df['usd pledged'].isnull()].head()"
   ]
  },
  {
   "cell_type": "markdown",
   "metadata": {},
   "source": [
    "It seems reasonable to keep these 3797 rows and substitute the NAN values with the corresponding usd_pledged_real and drop those 4 rows with no name. \n",
    "Also a glance at the country column shows that some country entries seem to be incorrect with the '*N,0\"*' entry. We should also consider taking care of that. \n",
    "Since most of the campaigns are from the states (78.85%) we will use a indicator of being from the states or not. Hence these values will turn to 0 (not from the states, assuming that '*N,0\"*' does not indicate that)."
   ]
  },
  {
   "cell_type": "code",
   "execution_count": 4,
   "metadata": {},
   "outputs": [],
   "source": [
    "df['usd pledged'].fillna(df['usd_pledged_real'], inplace=True)\n",
    "df.dropna(inplace=True)"
   ]
  },
  {
   "cell_type": "code",
   "execution_count": 5,
   "metadata": {},
   "outputs": [
    {
     "data": {
      "text/plain": [
       "usd_goal_real       0\n",
       "usd_pledged_real    0\n",
       "usd pledged         0\n",
       "country             0\n",
       "backers             0\n",
       "state               0\n",
       "pledged             0\n",
       "launched            0\n",
       "goal                0\n",
       "deadline            0\n",
       "currency            0\n",
       "main_category       0\n",
       "category            0\n",
       "name                0\n",
       "ID                  0\n",
       "dtype: int64"
      ]
     },
     "execution_count": 5,
     "metadata": {},
     "output_type": "execute_result"
    }
   ],
   "source": [
    "#Let's make sure the null values have been taken care of:\n",
    "df.isnull().sum().sort_values(ascending = False)"
   ]
  },
  {
   "cell_type": "markdown",
   "metadata": {},
   "source": [
    "Great! So now that we have dealt with the missing values, let's delve into the feature extraction step. Below is a list of useful features that we will be using:\n",
    "*Features focusing on the name of the campaign can be:*\n",
    "* Number of words in the name\n",
    "* Number of syllables\n",
    "* Presence of particular punctuation (e.g. ? !)\n",
    "* Number of characters\n",
    "* Ratio between vowels and alphanumeric length of the name\n",
    "* Whether the name is uppercase or not (Maybe names in uppercase can attract more attention to potential backers)\n",
    "\n",
    "These features are useful because we are interested to know whether a specific range of words, characters or any sort of pattern is effective in the campaign's success.\n",
    "Other important features could be those relevant to the time of launch and its durations. There may be a correlation between the time and day/month a campaign is launched.\n",
    "Some features in this aspect could be:\n",
    "* Launched hour\n",
    "* Launched day\n",
    "* Launched week\n",
    "* Launched month\n",
    "* Whether it was a weekend or not\n",
    "* Duration of the campaign \n",
    "\n",
    "Another group of features which is obviously effective is based on the goal and pledged amount. We can extract new features by considering the mean goal in each category and main category to see if a specific campaign is an outlier compared to other campaignes of its field, etc. Below is a list of such features:\n",
    "* Mean of the category's goal\n",
    "* Median of the category's goal\n",
    "* Count of the categoty (to see whether the campaign is relatively popular or not)\n",
    "* Mean of the main category's goal\n",
    "* Median of the main category's goal\n",
    "* Count of the main category\n",
    "* Difference between a campaign's goal and mean of its category\n",
    "* Pledged amount as a percentage of the goal\n",
    "* Pledged amount per backer \n",
    "* Average Pledged amount per category \n",
    "* Difference between pledged amount per backer for a campaign and the average received in that category\n",
    "\n",
    "Another interesting feature could be the country where the campaign is launched."
   ]
  },
  {
   "cell_type": "markdown",
   "metadata": {},
   "source": [
    "The following blocks computes the features listed above."
   ]
  },
  {
   "cell_type": "code",
   "execution_count": 6,
   "metadata": {},
   "outputs": [],
   "source": [
    " #Let's only keep the successful and failed labels and turn it into a binary classification:\n",
    "df.query(\"state in ['failed', 'successful']\", inplace=True)"
   ]
  },
  {
   "cell_type": "code",
   "execution_count": 7,
   "metadata": {},
   "outputs": [],
   "source": [
    "def syllable_count(word):\n",
    "    \"\"\"Count the syllables in a word\"\"\"\n",
    "    word = word.lower()\n",
    "    vowels = \"aeiouy\"\n",
    "    count = 0\n",
    "    if word[0] in vowels:\n",
    "        count += 1\n",
    "    for index in range(1, len(word)):\n",
    "        if word[index] in vowels and word[index - 1] not in vowels:\n",
    "            count += 1\n",
    "    if word.endswith(\"e\"):\n",
    "        count -= 1\n",
    "    if count == 0:\n",
    "        count += 1\n",
    "    return count"
   ]
  },
  {
   "cell_type": "code",
   "execution_count": 8,
   "metadata": {},
   "outputs": [],
   "source": [
    "def countVowels2LettersRatio(word):\n",
    "    '''Count ratio between vowels and letters'''\n",
    "    word = str(word)\n",
    "    count = 1  \n",
    "    vowels = 0\n",
    "    for i in word:\n",
    "        if i.isalpha():\n",
    "            count = count + 1\n",
    "            if i in 'aeiou':\n",
    "                vowels = vowels + 1\n",
    "    return ((vowels * 1.0) / count)\n",
    "\n"
   ]
  },
  {
   "cell_type": "code",
   "execution_count": 9,
   "metadata": {},
   "outputs": [],
   "source": [
    "## feature extraction for the campaign name\n",
    "\n",
    "df[\"num_syllable\"] = df[\"name\"].apply(lambda x: syllable_count(x))\n",
    "df[\"num_words\"] = df[\"name\"].apply(lambda x: len(x.split()))\n",
    "df[\"num_chars\"] = df[\"name\"].apply(lambda x: len(x.replace(\" \",\"\")))\n",
    "df['has_exclaimation_mark'] = int(len(re.findall(r'\\!', str(df.name.str[:]))) != 0)  #presence of ! in the name\n",
    "df['has_question_mark'] = int(len(re.findall(r'\\?', str(df.name.str[:]))) != 0)  #presence of ? in the name\n",
    "df['name_is_upper'] = df.name.str.isupper().astype(float)# if name is uppercase\n",
    "df['name_vowel_ratio'] = df.name.apply(countVowels2LettersRatio)# for each name calculate vowels ratio\n",
    "\n",
    "\n",
    "## feature extraction for the campaign length and timing\n",
    "df[\"launched_month\"] = df[\"launched\"].dt.month\n",
    "df[\"launched_week\"] = df[\"launched\"].dt.week\n",
    "df[\"launched_day\"] = df[\"launched\"].dt.weekday\n",
    "df[\"is_weekend\"] = df[\"launched_day\"].apply(lambda x: 1 if x > 4 else 0)\n",
    "df[\"duration_in_days\"] = df[\"deadline\"] - df[\"launched\"]\n",
    "df[\"duration_in_days\"] = df[\"duration_in_days\"].apply(lambda x: int(str(x).split()[0]))\n",
    "\n",
    "## label encoding the categorical features. This is necessary for the features related to goal and pledged amounts\n",
    "\n",
    "label_encoder = LabelEncoder()\n",
    "for cat in [\"category\", \"main_category\"]:\n",
    "    df[cat] = label_encoder.fit_transform(df[cat])\n",
    "   \n",
    "## feature extraction for goal and pledged values\n",
    "\n",
    "c1 = df.groupby(\"main_category\").agg({\"goal\" : \"mean\", \"category\" : \"sum\"})\n",
    "c2 = df.groupby(\"category\").agg({\"goal\" : \"mean\", \"main_category\" : \"sum\"})\n",
    "c1 = c1.reset_index().rename(columns={\"goal\" : \"main_category_goal_mean\", \"category\" : \"main_category_count\"})\n",
    "c2 = c2.reset_index().rename(columns={\"goal\" : \"category_goal_mean\", \"main_category\" : \"category_count\"})\n",
    "df = df.merge(c2, on = \"category\")\n",
    "df = df.merge(c1, on = \"main_category\") \n",
    "df[\"diff_mean_category_goal\"] = df[\"category_goal_mean\"] - df[\"goal\"]\n",
    "df[\"diff_mean_category_goal\"] = df[\"main_category_goal_mean\"] - df[\"goal\"]\n",
    "df['goal_log'] = np.log1p(df.goal) # normalizing goal by applying log to prevent skewness\n",
    "df.loc[:,'goal_reached'] = df['pledged'] / df['goal'] # Pledged amount as a percentage of goal.\n",
    "df.loc[df['backers'] == 0, 'backers'] = 1 # In backers column, impute 0 with 1 to prevent undefined division.\n",
    "df.loc[:,'pledge_per_backer'] = df['pledged'] / df['backers'] # Pledged amount per backer.\n",
    "\n",
    "## create indicator variable for `country` variable\n",
    "df['country_is_us'] = (df.country == 'US').astype(int)\n"
   ]
  },
  {
   "cell_type": "code",
   "execution_count": 11,
   "metadata": {},
   "outputs": [],
   "source": [
    "df[\"state\"] = df[\"state\"].apply(lambda x: 1 if x==\"successful\" else 0) #encode the state variable\n"
   ]
  },
  {
   "cell_type": "code",
   "execution_count": 12,
   "metadata": {
    "_kg_hide-input": false
   },
   "outputs": [],
   "source": [
    "\n",
    "df = df.drop([\"launched\", \"deadline\", \"name\", \"currency\", \"country\"], axis = 1) #drop the unnecassary columns"
   ]
  },
  {
   "cell_type": "code",
   "execution_count": 13,
   "metadata": {},
   "outputs": [],
   "source": [
    "#Define the label and features and scale the data\n",
    "labels = df.state\n",
    "features = [c for c in df.columns if c not in [\"state\"]]\n"
   ]
  },
  {
   "cell_type": "code",
   "execution_count": 14,
   "metadata": {},
   "outputs": [
    {
     "name": "stdout",
     "output_type": "stream",
     "text": [
      "(331672,)\n",
      "(331672, 30)\n"
     ]
    }
   ],
   "source": [
    "\n",
    "print(labels.shape)\n",
    "print(df[features].shape)\n"
   ]
  },
  {
   "cell_type": "code",
   "execution_count": 15,
   "metadata": {},
   "outputs": [
    {
     "data": {
      "text/html": [
       "<div>\n",
       "<style scoped>\n",
       "    .dataframe tbody tr th:only-of-type {\n",
       "        vertical-align: middle;\n",
       "    }\n",
       "\n",
       "    .dataframe tbody tr th {\n",
       "        vertical-align: top;\n",
       "    }\n",
       "\n",
       "    .dataframe thead th {\n",
       "        text-align: right;\n",
       "    }\n",
       "</style>\n",
       "<table border=\"1\" class=\"dataframe\">\n",
       "  <thead>\n",
       "    <tr style=\"text-align: right;\">\n",
       "      <th></th>\n",
       "      <th>ID</th>\n",
       "      <th>category</th>\n",
       "      <th>main_category</th>\n",
       "      <th>goal</th>\n",
       "      <th>pledged</th>\n",
       "      <th>state</th>\n",
       "      <th>backers</th>\n",
       "      <th>usd pledged</th>\n",
       "      <th>usd_pledged_real</th>\n",
       "      <th>usd_goal_real</th>\n",
       "      <th>...</th>\n",
       "      <th>duration_in_days</th>\n",
       "      <th>category_goal_mean</th>\n",
       "      <th>category_count</th>\n",
       "      <th>main_category_goal_mean</th>\n",
       "      <th>main_category_count</th>\n",
       "      <th>diff_mean_category_goal</th>\n",
       "      <th>goal_log</th>\n",
       "      <th>goal_reached</th>\n",
       "      <th>pledge_per_backer</th>\n",
       "      <th>country_is_us</th>\n",
       "    </tr>\n",
       "  </thead>\n",
       "  <tbody>\n",
       "    <tr>\n",
       "      <th>0</th>\n",
       "      <td>1000002330</td>\n",
       "      <td>108</td>\n",
       "      <td>12</td>\n",
       "      <td>1000.0</td>\n",
       "      <td>0.0</td>\n",
       "      <td>0</td>\n",
       "      <td>1</td>\n",
       "      <td>0.00</td>\n",
       "      <td>0.00</td>\n",
       "      <td>1533.95</td>\n",
       "      <td>...</td>\n",
       "      <td>58</td>\n",
       "      <td>5068.677095</td>\n",
       "      <td>14952</td>\n",
       "      <td>18579.750295</td>\n",
       "      <td>2437708</td>\n",
       "      <td>17579.750295</td>\n",
       "      <td>6.908755</td>\n",
       "      <td>0.0000</td>\n",
       "      <td>0.000000</td>\n",
       "      <td>0</td>\n",
       "    </tr>\n",
       "    <tr>\n",
       "      <th>1</th>\n",
       "      <td>1001028167</td>\n",
       "      <td>108</td>\n",
       "      <td>12</td>\n",
       "      <td>4000.0</td>\n",
       "      <td>20.0</td>\n",
       "      <td>0</td>\n",
       "      <td>1</td>\n",
       "      <td>30.66</td>\n",
       "      <td>30.30</td>\n",
       "      <td>6060.97</td>\n",
       "      <td>...</td>\n",
       "      <td>29</td>\n",
       "      <td>5068.677095</td>\n",
       "      <td>14952</td>\n",
       "      <td>18579.750295</td>\n",
       "      <td>2437708</td>\n",
       "      <td>14579.750295</td>\n",
       "      <td>8.294300</td>\n",
       "      <td>0.0050</td>\n",
       "      <td>20.000000</td>\n",
       "      <td>0</td>\n",
       "    </tr>\n",
       "    <tr>\n",
       "      <th>2</th>\n",
       "      <td>1001468086</td>\n",
       "      <td>108</td>\n",
       "      <td>12</td>\n",
       "      <td>2000.0</td>\n",
       "      <td>325.0</td>\n",
       "      <td>0</td>\n",
       "      <td>6</td>\n",
       "      <td>325.00</td>\n",
       "      <td>325.00</td>\n",
       "      <td>2000.00</td>\n",
       "      <td>...</td>\n",
       "      <td>29</td>\n",
       "      <td>5068.677095</td>\n",
       "      <td>14952</td>\n",
       "      <td>18579.750295</td>\n",
       "      <td>2437708</td>\n",
       "      <td>16579.750295</td>\n",
       "      <td>7.601402</td>\n",
       "      <td>0.1625</td>\n",
       "      <td>54.166667</td>\n",
       "      <td>1</td>\n",
       "    </tr>\n",
       "    <tr>\n",
       "      <th>3</th>\n",
       "      <td>1001991458</td>\n",
       "      <td>108</td>\n",
       "      <td>12</td>\n",
       "      <td>10000.0</td>\n",
       "      <td>101.0</td>\n",
       "      <td>0</td>\n",
       "      <td>2</td>\n",
       "      <td>101.00</td>\n",
       "      <td>101.00</td>\n",
       "      <td>10000.00</td>\n",
       "      <td>...</td>\n",
       "      <td>29</td>\n",
       "      <td>5068.677095</td>\n",
       "      <td>14952</td>\n",
       "      <td>18579.750295</td>\n",
       "      <td>2437708</td>\n",
       "      <td>8579.750295</td>\n",
       "      <td>9.210440</td>\n",
       "      <td>0.0101</td>\n",
       "      <td>50.500000</td>\n",
       "      <td>1</td>\n",
       "    </tr>\n",
       "    <tr>\n",
       "      <th>4</th>\n",
       "      <td>1002519316</td>\n",
       "      <td>108</td>\n",
       "      <td>12</td>\n",
       "      <td>1000.0</td>\n",
       "      <td>55.0</td>\n",
       "      <td>0</td>\n",
       "      <td>3</td>\n",
       "      <td>40.98</td>\n",
       "      <td>41.66</td>\n",
       "      <td>757.52</td>\n",
       "      <td>...</td>\n",
       "      <td>29</td>\n",
       "      <td>5068.677095</td>\n",
       "      <td>14952</td>\n",
       "      <td>18579.750295</td>\n",
       "      <td>2437708</td>\n",
       "      <td>17579.750295</td>\n",
       "      <td>6.908755</td>\n",
       "      <td>0.0550</td>\n",
       "      <td>18.333333</td>\n",
       "      <td>0</td>\n",
       "    </tr>\n",
       "  </tbody>\n",
       "</table>\n",
       "<p>5 rows × 31 columns</p>\n",
       "</div>"
      ],
      "text/plain": [
       "           ID  category  main_category     goal  pledged  state  backers  \\\n",
       "0  1000002330       108             12   1000.0      0.0      0        1   \n",
       "1  1001028167       108             12   4000.0     20.0      0        1   \n",
       "2  1001468086       108             12   2000.0    325.0      0        6   \n",
       "3  1001991458       108             12  10000.0    101.0      0        2   \n",
       "4  1002519316       108             12   1000.0     55.0      0        3   \n",
       "\n",
       "   usd pledged  usd_pledged_real  usd_goal_real      ...        \\\n",
       "0         0.00              0.00        1533.95      ...         \n",
       "1        30.66             30.30        6060.97      ...         \n",
       "2       325.00            325.00        2000.00      ...         \n",
       "3       101.00            101.00       10000.00      ...         \n",
       "4        40.98             41.66         757.52      ...         \n",
       "\n",
       "   duration_in_days  category_goal_mean  category_count  \\\n",
       "0                58         5068.677095           14952   \n",
       "1                29         5068.677095           14952   \n",
       "2                29         5068.677095           14952   \n",
       "3                29         5068.677095           14952   \n",
       "4                29         5068.677095           14952   \n",
       "\n",
       "   main_category_goal_mean  main_category_count  diff_mean_category_goal  \\\n",
       "0             18579.750295              2437708             17579.750295   \n",
       "1             18579.750295              2437708             14579.750295   \n",
       "2             18579.750295              2437708             16579.750295   \n",
       "3             18579.750295              2437708              8579.750295   \n",
       "4             18579.750295              2437708             17579.750295   \n",
       "\n",
       "   goal_log  goal_reached  pledge_per_backer  country_is_us  \n",
       "0  6.908755        0.0000           0.000000              0  \n",
       "1  8.294300        0.0050          20.000000              0  \n",
       "2  7.601402        0.1625          54.166667              1  \n",
       "3  9.210440        0.0101          50.500000              1  \n",
       "4  6.908755        0.0550          18.333333              0  \n",
       "\n",
       "[5 rows x 31 columns]"
      ]
     },
     "execution_count": 15,
     "metadata": {},
     "output_type": "execute_result"
    }
   ],
   "source": [
    "df.head()"
   ]
  },
  {
   "cell_type": "markdown",
   "metadata": {},
   "source": [
    "Now we are ready to split the data set to test and train and implement a model!"
   ]
  },
  {
   "cell_type": "markdown",
   "metadata": {},
   "source": [
    "****Modelling and Evaluation Metrics****\n",
    "\n",
    "So Now let's delve into training and predicting! \n",
    "Below the necessary packages are imported. \n",
    "We are going to implement three different models: logistic regression, random forests, xgboost. \n",
    "Let's go!"
   ]
  },
  {
   "cell_type": "code",
   "execution_count": 16,
   "metadata": {},
   "outputs": [],
   "source": [
    "from sklearn.model_selection import train_test_split\n",
    "from sklearn.linear_model import LogisticRegression\n",
    "from sklearn.metrics import accuracy_score, roc_curve, auc\n",
    "from sklearn.preprocessing import label_binarize\n",
    "from sklearn.metrics import classification_report\n",
    "from sklearn.metrics import confusion_matrix\n",
    "from sklearn.ensemble import RandomForestClassifier\n",
    "from sklearn.ensemble import GradientBoostingClassifier\n",
    "import matplotlib.pyplot as plt\n",
    "import itertools\n",
    "from plotly.offline import iplot, init_notebook_mode\n",
    "import plotly.graph_objs as go"
   ]
  },
  {
   "cell_type": "code",
   "execution_count": 17,
   "metadata": {},
   "outputs": [],
   "source": [
    "# Separate into training and testing set\n",
    "X_train, X_test, y_train, y_test = train_test_split(df[features], labels, test_size = 0.2, random_state = 2)"
   ]
  },
  {
   "cell_type": "code",
   "execution_count": 18,
   "metadata": {},
   "outputs": [],
   "source": [
    "# a function to plot the confusion matrix. Will be handy for visualising the results.\n",
    "\n",
    "def plotConfusionMatrix(cm, classes,\n",
    "                          normalize=False,\n",
    "                          title= 'Confusion Matrix',\n",
    "                          cmap=plt.cm.Blues):\n",
    "    \"\"\"\n",
    "    This function prints and plots the confusion matrix.\n",
    "    Normalization can be applied by setting `normalize=True`.\n",
    "    \"\"\"\n",
    "    plt.imshow(cm, interpolation='nearest', cmap=cmap)\n",
    "    plt.title(title)\n",
    "    plt.colorbar()\n",
    "    tick_marks = np.arange(len(classes))\n",
    "    plt.xticks(tick_marks, classes, rotation = 45)\n",
    "    plt.yticks(tick_marks, classes)\n",
    "    \n",
    "    # Only use the labels that appear in the data\n",
    "   \n",
    "    if normalize:\n",
    "        cm = cm.astype('float') / cm.sum(axis=1)[:, np.newaxis]\n",
    "\n",
    "    thresh = cm.max() / 2.\n",
    "    for i,j in itertools.product(range(cm.shape[0]), range(cm.shape[1])):\n",
    "            plt.text(j, i, cm[i, j],\n",
    "                    horizontalalignment = \"center\",\n",
    "                    color=\"white\" if cm[i, j] > thresh else \"black\")\n",
    "    plt.tight_layout()\n",
    "    plt.ylabel('True Label')\n",
    "    plt.xlabel('Predicted Label')\n",
    "    plt.show()\n"
   ]
  },
  {
   "cell_type": "code",
   "execution_count": 19,
   "metadata": {},
   "outputs": [],
   "source": [
    "def plotRocCurve(y_score,all_lables = labels, test_labels = y_test):\n",
    "    \"\"\"This functions computes roc_auc and plots it\n",
    "    inputs: \n",
    "        labels: all the possible labels\n",
    "        y_test: true labels reserved for test\n",
    "        y_score: scores of the model's confidence of a point being in class 1\n",
    "    output:\n",
    "        roc_auc curve\n",
    "        \"\"\"\n",
    "    fpr = dict()\n",
    "    tpr = dict()\n",
    "    roc_auc = dict()\n",
    "    y = label_binarize(labels, classes=[0, 1])\n",
    "    n_classes = y.shape[1]\n",
    "    fpr, tpr, _ = roc_curve(y_test, y_score)\n",
    "    roc_auc = auc(fpr, tpr)\n",
    "\n",
    "    plt.figure()\n",
    "    lw = 2\n",
    "    plt.plot(fpr, tpr, color='darkorange',\n",
    "             lw=lw, label='ROC curve (area = %0.2f)' % roc_auc)\n",
    "    plt.plot([0, 1], [0, 1], color='navy', lw=lw, linestyle='--')\n",
    "    plt.xlim([0.0, 1.0])\n",
    "    plt.ylim([0.0, 1.05])\n",
    "    plt.xlabel('False Positive Rate')\n",
    "    plt.ylabel('True Positive Rate')\n",
    "    plt.title('Receiver operating characteristic example')\n",
    "    plt.legend(loc=\"lower right\")\n",
    "    plt.show()"
   ]
  },
  {
   "cell_type": "code",
   "execution_count": 20,
   "metadata": {},
   "outputs": [
    {
     "name": "stdout",
     "output_type": "stream",
     "text": [
      "(66335, 30)\n",
      "(265337, 30)\n"
     ]
    }
   ],
   "source": [
    "print(X_test.shape)\n",
    "print(X_train.shape)"
   ]
  },
  {
   "cell_type": "code",
   "execution_count": 21,
   "metadata": {},
   "outputs": [
    {
     "name": "stdout",
     "output_type": "stream",
     "text": [
      "Accuracy for a logistic regression model is:  91.53086605864175\n"
     ]
    }
   ],
   "source": [
    "#fit and transform the training data with a simple logistic regression model\n",
    "\n",
    "model_lr = LogisticRegression()\n",
    "clf = model_lr.fit(X_train,y_train)\n",
    "y_pred = clf.predict(X_test)\n",
    "score = accuracy_score(y_test,y_pred)\n",
    "print ('Accuracy for a logistic regression model is: ',score*100)"
   ]
  },
  {
   "cell_type": "markdown",
   "metadata": {},
   "source": [
    "Wow! that's pretty awesome! Let's print out the confusion matrix and plot some ROC graphs."
   ]
  },
  {
   "cell_type": "code",
   "execution_count": 22,
   "metadata": {},
   "outputs": [
    {
     "data": {
      "image/png": "[encoded data removed]",
      "text/plain": [
       "<Figure size 720x288 with 2 Axes>"
      ]
     },
     "metadata": {
      "needs_background": "light"
     },
     "output_type": "display_data"
    },
    {
     "name": "stdout",
     "output_type": "stream",
     "text": [
      "             precision    recall  f1-score   support\n",
      "\n",
      "          0       0.89      0.98      0.93     39478\n",
      "          1       0.97      0.82      0.89     26857\n",
      "\n",
      "avg / total       0.92      0.92      0.91     66335\n",
      "\n"
     ]
    }
   ],
   "source": [
    "# define the confusion matrix and plot it using the defined plot_confusion_matrix above\n",
    "cm = confusion_matrix(y_test, y_pred)\n",
    "cm_labels = list(set(labels))\n",
    "plt.figure(figsize=(10,4))\n",
    "plotConfusionMatrix(cm = cm, classes = cm_labels)\n",
    "print(classification_report(y_test,y_pred))"
   ]
  },
  {
   "cell_type": "code",
   "execution_count": 23,
   "metadata": {},
   "outputs": [
    {
     "data": {
      "image/png": "[encoded data removed]",
      "text/plain": [
       "<Figure size 432x288 with 1 Axes>"
      ]
     },
     "metadata": {
      "needs_background": "light"
     },
     "output_type": "display_data"
    }
   ],
   "source": [
    "y_score = clf.decision_function(X_test) #Let's find the confidence scores of each campaign being successful. This will be useful for the ROC plot\n",
    "# compute roc_auc and plot it\n",
    "plotRocCurve(y_score)\n"
   ]
  },
  {
   "cell_type": "code",
   "execution_count": 18,
   "metadata": {},
   "outputs": [
    {
     "name": "stdout",
     "output_type": "stream",
     "text": [
      "Accuracy for a random forest model is:  99.99698500037687\n"
     ]
    }
   ],
   "source": [
    "# fit a random forest\n",
    "model_rfc = RandomForestClassifier()\n",
    "clf2 = model_rfc.fit(X_train,y_train)\n",
    "y_pred_2= clf2.predict(X_test)\n",
    "score2 = accuracy_score(y_test, y_pred_2)\n",
    "print ('Accuracy for a random forest model is: ',score2*100)"
   ]
  },
  {
   "cell_type": "code",
   "execution_count": 25,
   "metadata": {},
   "outputs": [
    {
     "data": {
      "image/png": "[encoded data removed]",
      "text/plain": [
       "<Figure size 720x288 with 2 Axes>"
      ]
     },
     "metadata": {
      "needs_background": "light"
     },
     "output_type": "display_data"
    },
    {
     "name": "stdout",
     "output_type": "stream",
     "text": [
      "             precision    recall  f1-score   support\n",
      "\n",
      "          0       1.00      1.00      1.00     39478\n",
      "          1       1.00      1.00      1.00     26857\n",
      "\n",
      "avg / total       1.00      1.00      1.00     66335\n",
      "\n"
     ]
    }
   ],
   "source": [
    "cm2 = confusion_matrix(y_test, y_pred_2)\n",
    "plt.figure(figsize=(10,4))\n",
    "plotConfusionMatrix(cm = cm2, classes = cm_labels)\n",
    "print(classification_report(y_test,y_pred_2))"
   ]
  },
  {
   "cell_type": "markdown",
   "metadata": {},
   "source": [
    "Much better! As you see the number of misclassified points have decreased to only 3 points!!"
   ]
  },
  {
   "cell_type": "code",
   "execution_count": 26,
   "metadata": {},
   "outputs": [
    {
     "data": {
      "image/png": "[encoded data removed]",
      "text/plain": [
       "<Figure size 432x288 with 1 Axes>"
      ]
     },
     "metadata": {
      "needs_background": "light"
     },
     "output_type": "display_data"
    }
   ],
   "source": [
    "y_score2 = clf2.predict_proba(X_test)\n",
    "plotRocCurve(y_score2[:,1])"
   ]
  },
  {
   "cell_type": "code",
   "execution_count": 28,
   "metadata": {},
   "outputs": [
    {
     "name": "stdout",
     "output_type": "stream",
     "text": [
      "Accuracy for a gradient boosting model is:  99.99397000075375\n"
     ]
    }
   ],
   "source": [
    "#fit and transform the training data\n",
    "model_gbc = GradientBoostingClassifier()\n",
    "clf3 = model_gbc.fit(X_train,y_train)\n",
    "y_pred_3= clf3.predict(X_test)\n",
    "score3 = accuracy_score(y_test,y_pred_3)\n",
    "print ('Accuracy for a gradient boosting model is: ',score3*100)"
   ]
  },
  {
   "cell_type": "code",
   "execution_count": 29,
   "metadata": {},
   "outputs": [
    {
     "data": {
      "image/png": "[encoded data removed]",
      "text/plain": [
       "<Figure size 720x288 with 2 Axes>"
      ]
     },
     "metadata": {
      "needs_background": "light"
     },
     "output_type": "display_data"
    },
    {
     "name": "stdout",
     "output_type": "stream",
     "text": [
      "             precision    recall  f1-score   support\n",
      "\n",
      "          0       1.00      1.00      1.00     39478\n",
      "          1       1.00      1.00      1.00     26857\n",
      "\n",
      "avg / total       1.00      1.00      1.00     66335\n",
      "\n"
     ]
    }
   ],
   "source": [
    "cm3 = confusion_matrix(y_test, y_pred_3)\n",
    "plt.figure(figsize=(10,4))\n",
    "plotConfusionMatrix(cm = cm3, classes = cm_labels)\n",
    "print(classification_report(y_test,y_pred_3))"
   ]
  },
  {
   "cell_type": "markdown",
   "metadata": {},
   "source": [
    "XGBoost is doing as well as random forest except that there is and additional misclassified point. "
   ]
  },
  {
   "cell_type": "code",
   "execution_count": 30,
   "metadata": {},
   "outputs": [
    {
     "data": {
      "image/png": "[encoded data removed]",
      "text/plain": [
       "<Figure size 432x288 with 1 Axes>"
      ]
     },
     "metadata": {
      "needs_background": "light"
     },
     "output_type": "display_data"
    }
   ],
   "source": [
    "y_score3 = clf3.predict_proba(X_test)\n",
    "plotRocCurve(y_score3[:,1])"
   ]
  },
  {
   "cell_type": "markdown",
   "metadata": {},
   "source": [
    "Wonderful! We also tried implementing neural nets but did not gain as good results. The main reason could be relatively small number of inputs that a NN needs to learn from. Since the performance wasn't as good (~ 60 %) we have not included it in this notebook.\n",
    "We just stick to the random forest model which has so far been our best model. "
   ]
  },
  {
   "cell_type": "markdown",
   "metadata": {},
   "source": [
    "****Feature Selection****"
   ]
  },
  {
   "cell_type": "markdown",
   "metadata": {},
   "source": [
    "Now let's take a further look at what features are most important in deciding the success rate of a campaign as it will affect are decision on how to launch ours afterall. For this matter we are going to implement feature importance to see which features were critical in designing the decision trees. "
   ]
  },
  {
   "cell_type": "markdown",
   "metadata": {},
   "source": [
    "**Feature Importance**\n",
    "\n",
    "\n",
    "Let’s start with decision trees to build some intuition. In decision trees, every node is a condition how to split values in a single feature, so that similar values of dependent variable end up in the same set after the split. The condition is based on impurity, which in case of classification problems is Gini impurity / information gain (entropy), while for regression trees its variance. So when training a tree we can compute how much each feature contributes to decreasing the weighted impurity. feature_importances_ in Scikit-Learn is based on that logic, but in case of Random Forest we are talking about averaging the decrease in impurity over trees.(from https://towardsdatascience.com/explaining-feature-importance-by-example-of-a-random-forest-d9166011959e) \n",
    "Let's impement it and find the most important features. "
   ]
  },
  {
   "cell_type": "code",
   "execution_count": 19,
   "metadata": {},
   "outputs": [
    {
     "name": "stdout",
     "output_type": "stream",
     "text": [
      "Feature ranking:\n",
      "1. feature 27 (0.389265)\n",
      "2. feature 7 (0.193923)\n",
      "3. feature 4 (0.098643)\n",
      "4. feature 6 (0.098316)\n",
      "5. feature 5 (0.050527)\n",
      "6. feature 8 (0.049730)\n",
      "7. feature 28 (0.040532)\n",
      "8. feature 26 (0.034692)\n",
      "9. feature 3 (0.034501)\n",
      "10. feature 25 (0.003353)\n",
      "11. feature 20 (0.001922)\n",
      "12. feature 10 (0.001399)\n",
      "13. feature 23 (0.001255)\n",
      "14. feature 22 (0.000319)\n",
      "15. feature 21 (0.000228)\n",
      "16. feature 1 (0.000183)\n",
      "17. feature 0 (0.000164)\n",
      "18. feature 2 (0.000161)\n",
      "19. feature 24 (0.000153)\n",
      "20. feature 15 (0.000144)\n",
      "21. feature 29 (0.000137)\n",
      "22. feature 11 (0.000125)\n",
      "23. feature 9 (0.000112)\n",
      "24. feature 16 (0.000078)\n",
      "25. feature 17 (0.000074)\n",
      "26. feature 18 (0.000051)\n",
      "27. feature 19 (0.000011)\n",
      "28. feature 14 (0.000003)\n",
      "29. feature 12 (0.000000)\n",
      "30. feature 13 (0.000000)\n"
     ]
    }
   ],
   "source": [
    "importances = clf2.feature_importances_\n",
    "std = np.std([tree.feature_importances_ for tree in clf2.estimators_],\n",
    "             axis=0)\n",
    "indices = np.argsort(importances)[::-1]\n",
    "\n",
    "# Print the feature ranking\n",
    "print(\"Feature ranking:\")\n",
    "\n",
    "for f in range(df[features].shape[1]):\n",
    "    print(\"%d. feature %d (%f)\" % (f + 1, indices[f], importances[indices[f]]))\n"
   ]
  },
  {
   "cell_type": "markdown",
   "metadata": {},
   "source": [
    "Now it will be easier if we can see what these top features actually are:"
   ]
  },
  {
   "cell_type": "code",
   "execution_count": 33,
   "metadata": {},
   "outputs": [
    {
     "data": {
      "text/html": [
       "<script type=\"text/javascript\">window.PlotlyConfig = {MathJaxConfig: 'local'};</script><script type=\"text/javascript\">if (window.MathJax) {MathJax.Hub.Config({SVG: {font: \"STIX-Web\"}});}</script><script>requirejs.config({paths: { 'plotly': ['https://cdn.plot.ly/plotly-latest.min']},});if(!window._Plotly) {require(['plotly'],function(plotly) {window._Plotly=plotly;});}</script>"
      ],
      "text/vnd.plotly.v1+html": [
       "<script type=\"text/javascript\">window.PlotlyConfig = {MathJaxConfig: 'local'};</script><script type=\"text/javascript\">if (window.MathJax) {MathJax.Hub.Config({SVG: {font: \"STIX-Web\"}});}</script><script>requirejs.config({paths: { 'plotly': ['https://cdn.plot.ly/plotly-latest.min']},});if(!window._Plotly) {require(['plotly'],function(plotly) {window._Plotly=plotly;});}</script>"
      ]
     },
     "metadata": {},
     "output_type": "display_data"
    },
    {
     "data": {
      "application/vnd.plotly.v1+json": {
       "config": {
        "linkText": "Export to plot.ly",
        "plotlyServerURL": "https://plot.ly",
        "showLink": false
       },
       "data": [
        {
         "marker": {
          "color": [
           "red",
           "red",
           "red",
           "red",
           "red",
           "red",
           "red",
           "red",
           "red",
           "green",
           "green",
           "green",
           "green",
           "green",
           "green"
          ],
          "opacity": 0.4
         },
         "name": "feature importance (relative)",
         "orientation": "h",
         "type": "bar",
         "uid": "95798588-d90a-4351-b1da-b9d9b7e43adf",
         "x": [
          0.00030485418126121894,
          0.00047587792698213036,
          0.000555821182544469,
          0.0007441905422570126,
          0.0008484733260466189,
          0.0016062902296712094,
          0.009448115251379794,
          0.0437864466929578,
          0.04441931604913267,
          0.04599205418620425,
          0.04734914743392535,
          0.057893334799547155,
          0.18907073936263225,
          0.261946911494133,
          0.29403115863980556
         ],
         "y": [
          "Duration_In_Days  ",
          "Main_Category_Count  ",
          "Country_Is_Us  ",
          "Main_Category_Goal_Mean  ",
          "Category_Goal_Mean  ",
          "Diff_Mean_Category_Goal  ",
          "Pledge_Per_Backer  ",
          "Pledged  ",
          "Goal  ",
          "Usd Pledged  ",
          "Usd_Goal_Real  ",
          "Goal_Log  ",
          "Usd_Pledged_Real  ",
          "Backers  ",
          "Goal_Reached  "
         ]
        }
       ],
       "layout": {
        "bargap": 0.25,
        "barmode": "group",
        "margin": {
         "l": 400
        },
        "title": {
         "text": " Feature Importance"
        },
        "width": 1000,
        "xaxis": {
         "range": [
          0,
          0.15
         ]
        }
       }
      },
      "text/html": [
       "<div id=\"602a3b04-152c-42f0-b3e6-240132e25102\" style=\"height: 525px; width: 1000px;\" class=\"plotly-graph-div\"></div><script type=\"text/javascript\">require([\"plotly\"], function(Plotly) { window.PLOTLYENV=window.PLOTLYENV || {};window.PLOTLYENV.BASE_URL=\"https://plot.ly\";\n",
       "if (document.getElementById(\"602a3b04-152c-42f0-b3e6-240132e25102\")) {\n",
       "    Plotly.newPlot(\"602a3b04-152c-42f0-b3e6-240132e25102\", [{\"marker\": {\"color\": [\"red\", \"red\", \"red\", \"red\", \"red\", \"red\", \"red\", \"red\", \"red\", \"green\", \"green\", \"green\", \"green\", \"green\", \"green\"], \"opacity\": 0.4}, \"name\": \"feature importance (relative)\", \"orientation\": \"h\", \"x\": [0.00030485418126121894, 0.00047587792698213036, 0.000555821182544469, 0.0007441905422570126, 0.0008484733260466189, 0.0016062902296712094, 0.009448115251379794, 0.0437864466929578, 0.04441931604913267, 0.04599205418620425, 0.04734914743392535, 0.057893334799547155, 0.18907073936263225, 0.261946911494133, 0.29403115863980556], \"y\": [\"Duration_In_Days  \", \"Main_Category_Count  \", \"Country_Is_Us  \", \"Main_Category_Goal_Mean  \", \"Category_Goal_Mean  \", \"Diff_Mean_Category_Goal  \", \"Pledge_Per_Backer  \", \"Pledged  \", \"Goal  \", \"Usd Pledged  \", \"Usd_Goal_Real  \", \"Goal_Log  \", \"Usd_Pledged_Real  \", \"Backers  \", \"Goal_Reached  \"], \"type\": \"bar\", \"uid\": \"95798588-d90a-4351-b1da-b9d9b7e43adf\"}], {\"bargap\": 0.25, \"barmode\": \"group\", \"margin\": {\"l\": 400}, \"title\": {\"text\": \" Feature Importance\"}, \"width\": 1000, \"xaxis\": {\"range\": [0.0, 0.15]}}, {\"showLink\": false, \"linkText\": \"Export to plot.ly\", \"plotlyServerURL\": \"https://plot.ly\"}); \n",
       "}\n",
       "});</script>"
      ],
      "text/vnd.plotly.v1+html": [
       "<div id=\"602a3b04-152c-42f0-b3e6-240132e25102\" style=\"height: 525px; width: 1000px;\" class=\"plotly-graph-div\"></div><script type=\"text/javascript\">require([\"plotly\"], function(Plotly) { window.PLOTLYENV=window.PLOTLYENV || {};window.PLOTLYENV.BASE_URL=\"https://plot.ly\";\n",
       "if (document.getElementById(\"602a3b04-152c-42f0-b3e6-240132e25102\")) {\n",
       "    Plotly.newPlot(\"602a3b04-152c-42f0-b3e6-240132e25102\", [{\"marker\": {\"color\": [\"red\", \"red\", \"red\", \"red\", \"red\", \"red\", \"red\", \"red\", \"red\", \"green\", \"green\", \"green\", \"green\", \"green\", \"green\"], \"opacity\": 0.4}, \"name\": \"feature importance (relative)\", \"orientation\": \"h\", \"x\": [0.00030485418126121894, 0.00047587792698213036, 0.000555821182544469, 0.0007441905422570126, 0.0008484733260466189, 0.0016062902296712094, 0.009448115251379794, 0.0437864466929578, 0.04441931604913267, 0.04599205418620425, 0.04734914743392535, 0.057893334799547155, 0.18907073936263225, 0.261946911494133, 0.29403115863980556], \"y\": [\"Duration_In_Days  \", \"Main_Category_Count  \", \"Country_Is_Us  \", \"Main_Category_Goal_Mean  \", \"Category_Goal_Mean  \", \"Diff_Mean_Category_Goal  \", \"Pledge_Per_Backer  \", \"Pledged  \", \"Goal  \", \"Usd Pledged  \", \"Usd_Goal_Real  \", \"Goal_Log  \", \"Usd_Pledged_Real  \", \"Backers  \", \"Goal_Reached  \"], \"type\": \"bar\", \"uid\": \"95798588-d90a-4351-b1da-b9d9b7e43adf\"}], {\"bargap\": 0.25, \"barmode\": \"group\", \"margin\": {\"l\": 400}, \"title\": {\"text\": \" Feature Importance\"}, \"width\": 1000, \"xaxis\": {\"range\": [0.0, 0.15]}}, {\"showLink\": false, \"linkText\": \"Export to plot.ly\", \"plotlyServerURL\": \"https://plot.ly\"}); \n",
       "}\n",
       "});</script>"
      ]
     },
     "metadata": {},
     "output_type": "display_data"
    }
   ],
   "source": [
    "#plot the features based on importance rank \n",
    "init_notebook_mode(connected=True)\n",
    "feature_importances = pd.DataFrame(clf2.feature_importances_, index = X_train.columns, columns=['importance'])\n",
    "feature_importances = feature_importances.sort_values('importance', ascending=False)\n",
    "\n",
    "colors = [\"red\"] * 9 + [\"green\"]*6\n",
    "trace1 = go.Bar(y = [x.title()+\"  \" for x in feature_importances.index[:15][::-1]], \n",
    "                x = feature_importances.importance[:15][::-1], \n",
    "                name=\"feature importance (relative)\",\n",
    "                marker=dict(color=colors, opacity=0.4), orientation = \"h\")\n",
    "\n",
    "data = [trace1]\n",
    "\n",
    "layout = go.Layout(\n",
    "    margin=dict(l=400), width = 1000,\n",
    "    xaxis=dict(range=(0.0,0.15)),\n",
    "    title=' Feature Importance',\n",
    "    barmode='group',\n",
    "    bargap=0.25\n",
    ")\n",
    "fig = go.Figure(data=data, layout=layout)\n",
    "iplot(fig)"
   ]
  },
  {
   "cell_type": "markdown",
   "metadata": {},
   "source": [
    "It looks like features such as duration, country, name_vowel_ratio, etc, do not play a crucial role in decision making. Let's verify this by dropping these columns and only keeping the so called *important* features.  This will reduce the number of the features to half. "
   ]
  },
  {
   "cell_type": "code",
   "execution_count": 20,
   "metadata": {},
   "outputs": [],
   "source": [
    "copy_df = df.copy()\n",
    "df_imp = copy_df.drop([\"category\", \"main_category\", \"num_syllable\", \"num_words\", \"num_chars\", \"has_exclaimation_mark\", \"has_question_mark\", \"name_is_upper\", \"name_vowel_ratio\", \n",
    "                       'launched_month', 'launched_week', 'launched_day', 'is_weekend','duration_in_days', 'country_is_us'], axis = 1) #drop the unnecassary columns"
   ]
  },
  {
   "cell_type": "code",
   "execution_count": 21,
   "metadata": {},
   "outputs": [
    {
     "data": {
      "text/plain": [
       "Index(['ID', 'goal', 'pledged', 'state', 'backers', 'usd pledged',\n",
       "       'usd_pledged_real', 'usd_goal_real', 'category_goal_mean',\n",
       "       'category_count', 'main_category_goal_mean', 'main_category_count',\n",
       "       'diff_mean_category_goal', 'goal_log', 'goal_reached',\n",
       "       'pledge_per_backer'],\n",
       "      dtype='object')"
      ]
     },
     "execution_count": 21,
     "metadata": {},
     "output_type": "execute_result"
    }
   ],
   "source": [
    "df_imp.columns  #important columns"
   ]
  },
  {
   "cell_type": "code",
   "execution_count": 22,
   "metadata": {},
   "outputs": [],
   "source": [
    "#spliting the sub data set into train and test. Same as before\n",
    "features_imp = [c for c in df_imp.columns if c not in [\"state\"]]\n",
    "X_train_imp, X_test_imp, y_train_imp, y_test_imp = train_test_split(df_imp[features_imp], labels, test_size = 0.2, random_state = 2)"
   ]
  },
  {
   "cell_type": "code",
   "execution_count": 23,
   "metadata": {},
   "outputs": [
    {
     "name": "stdout",
     "output_type": "stream",
     "text": [
      "Accuracy for a random forest model is:  99.99397000075375\n"
     ]
    }
   ],
   "source": [
    "# fit a random forest\n",
    "model_rfc_imp = RandomForestClassifier()\n",
    "clf_imp = model_rfc_imp.fit(X_train_imp,y_train_imp)\n",
    "y_pred_imp= clf_imp.predict(X_test_imp)\n",
    "score_imp = accuracy_score(y_test_imp, y_pred_imp)\n",
    "print ('Accuracy for a random forest model is: ',score_imp*100)"
   ]
  },
  {
   "cell_type": "markdown",
   "metadata": {},
   "source": [
    "**Statistical Tests**\n",
    "\n",
    "\n",
    "Okay! Looks like the selected features are in fact the decision makers. As the final step to make sure things are not occuring by chance! let's run a statistical test and compare this model with important features with the original one. We will use the mcnemer test as shown below:"
   ]
  },
  {
   "cell_type": "code",
   "execution_count": 39,
   "metadata": {},
   "outputs": [],
   "source": [
    "import numpy as np\n",
    "from mlxtend.evaluate import mcnemar_table\n",
    "from statsmodels.stats.contingency_tables import mcnemar\n",
    "import statistics"
   ]
  },
  {
   "cell_type": "markdown",
   "metadata": {},
   "source": [
    "We have defined the function below using the mcnemer package to perform a statistical test for us."
   ]
  },
  {
   "cell_type": "code",
   "execution_count": 40,
   "metadata": {},
   "outputs": [],
   "source": [
    "def mcnemerTest(y_model1, y_model2, y_target = y_test):\n",
    "    \"\"\"This function constructs a contingency table for two models and computes the p_value to verify if they make the same mistakes or not. i.e. are they statistically \n",
    "    different(pvalue < .05) or not(pvalue > .05)\n",
    "    inputs: \n",
    "        y_target: true labels\n",
    "        y_model1: predictions of model 1\n",
    "        y_model2: predictions of model 2\n",
    "    output: \n",
    "        statistic: calculated test statistic\n",
    "        pvalue\n",
    "    \"\"\"\n",
    "    tb = mcnemar_table(y_target, \n",
    "                       y_model1, \n",
    "                       y_model2)\n",
    "    result = mcnemar(tb, exact=True)\n",
    "    return result, tb"
   ]
  },
  {
   "cell_type": "code",
   "execution_count": 41,
   "metadata": {},
   "outputs": [
    {
     "name": "stdout",
     "output_type": "stream",
     "text": [
      "pvalue      1.0\n",
      "statistic   0.0\n"
     ]
    }
   ],
   "source": [
    "result, _ = mcnemerTest(y_pred_2, y_pred_imp)\n",
    "print(result)"
   ]
  },
  {
   "cell_type": "markdown",
   "metadata": {},
   "source": [
    "As you see these two models are not different from one another! So we can drop the unimortant features with no fear!\n",
    "Now just to see what will happen if we keep the unimportant features. "
   ]
  },
  {
   "cell_type": "code",
   "execution_count": 42,
   "metadata": {},
   "outputs": [],
   "source": [
    "#Let's see how the model performs if we only keep to unimportant features\n",
    "copy2_df = df.copy()\n",
    "df_unimp = copy2_df.drop(['ID', 'goal', 'pledged', 'backers', 'usd pledged',\n",
    "       'usd_pledged_real', 'usd_goal_real', 'category_goal_mean',\n",
    "       'category_count', 'main_category_goal_mean', 'main_category_count',\n",
    "       'diff_mean_category_goal', 'goal_log', 'goal_reached',\n",
    "       'pledge_per_backer'], axis = 1)\n",
    "features_unimp = [c for c in df_unimp if c not in ['state']]\n",
    "X_train_unimp, X_test_unimp, y_train_unimp, y_test_unimp = train_test_split(df_unimp[features_unimp], labels, test_size = 0.2, random_state = 2)"
   ]
  },
  {
   "cell_type": "code",
   "execution_count": 43,
   "metadata": {},
   "outputs": [
    {
     "name": "stdout",
     "output_type": "stream",
     "text": [
      "Accuracy for a random forest model is:  62.36375970453004\n"
     ]
    }
   ],
   "source": [
    "# fit a random forest\n",
    "model_rfc_unimp = RandomForestClassifier()\n",
    "clf_unimp = model_rfc_unimp.fit(X_train_unimp,y_train_unimp)\n",
    "y_pred_unimp= clf_unimp.predict(X_test_unimp)\n",
    "score_unimp = accuracy_score(y_test_unimp, y_pred_unimp)\n",
    "print ('Accuracy for a random forest model is: ',score_unimp*100)"
   ]
  },
  {
   "cell_type": "markdown",
   "metadata": {},
   "source": [
    "Well this was expected. Just to make sure that this not so good model is significantly different from the model with important features, we will run the mcnemer test. "
   ]
  },
  {
   "cell_type": "code",
   "execution_count": 44,
   "metadata": {},
   "outputs": [
    {
     "name": "stdout",
     "output_type": "stream",
     "text": [
      "pvalue      0.0\n",
      "statistic   3.0\n"
     ]
    }
   ],
   "source": [
    "result, table = mcnemerTest(y_pred_imp, y_pred_unimp)\n",
    "print(result)"
   ]
  },
  {
   "cell_type": "markdown",
   "metadata": {},
   "source": [
    "Significantly different. This is also verified by printing the contingency table. As shown below the ratio of the two models is 24777:1 !"
   ]
  },
  {
   "cell_type": "code",
   "execution_count": 45,
   "metadata": {},
   "outputs": [
    {
     "name": "stdout",
     "output_type": "stream",
     "text": [
      "[[41366     3]\n",
      " [24966     0]]\n"
     ]
    }
   ],
   "source": [
    "print(table)"
   ]
  },
  {
   "cell_type": "markdown",
   "metadata": {},
   "source": [
    "**Now how should we launch our campign based on this?**\n",
    "\n",
    "Very good question! So we have ran a number of analysis and since our model is almost 100% accuract we can derive conclusions about a proposed campaign with high confidence!\n",
    "Our exploratory data analysis (refer to the R code) suggests that a safe range for this type of campaign could be 120,000 USD with expected pledge of 155000 USD. Base on this and other findings of our EDA we consider a test data point and compute the model's confidence of it being successful. \n"
   ]
  },
  {
   "cell_type": "markdown",
   "metadata": {},
   "source": [
    "Resources: \n",
    "\n",
    "* https://www.kaggle.com/shivamb/an-insightful-story-of-crowdfunding-projects\n",
    "* https://scikit-learn.org/stable/auto_examples/ensemble/plot_forest_importances.html\n",
    "* https://www.kaggle.com/srishti280992/kickstarter-project-classification-lgbm-70-3\n",
    "* https://www.kaggle.com/dronqo/how-successful-is-your-kickstarter-project\n",
    "* https://www.kaggle.com/kromel/kickstarter-successful-vs-failed\n",
    "* https://www.kaggle.com/carlolepelaars/exploration-of-kickstarter-data-2010-2017\n",
    "* https://machinelearningmastery.com/mcnemars-test-for-machine-learning/\n",
    "* https://www.kaggle.com/dronqo/how-successful-is-your-kickstarter-project"
   ]
  }
 ],
 "metadata": {
  "kernelspec": {
   "display_name": "Python 3",
   "language": "python",
   "name": "python3"
  },
  "language_info": {
   "codemirror_mode": {
    "name": "ipython",
    "version": 3
   },
   "file_extension": ".py",
   "mimetype": "text/x-python",
   "name": "python",
   "nbconvert_exporter": "python",
   "pygments_lexer": "ipython3",
   "version": "3.6.2"
  }
 },
 "nbformat": 4,
 "nbformat_minor": 1
}
